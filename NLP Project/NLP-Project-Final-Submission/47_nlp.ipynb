{
  "cells": [
    {
      "cell_type": "markdown",
      "source": [
        "# Graph Based Neural Dependency Parser\n"
      ],
      "metadata": {
        "id": "sm6VXmqdDC2z"
      }
    },
    {
      "cell_type": "code",
      "execution_count": 1,
      "metadata": {
        "colab": {
          "base_uri": "https://localhost:8080/"
        },
        "id": "fWJxDemze6fE",
        "outputId": "86bcaed1-e477-4d2b-f995-2a707077a82d"
      },
      "outputs": [
        {
          "output_type": "stream",
          "name": "stdout",
          "text": [
            "Looking in indexes: https://pypi.org/simple, https://us-python.pkg.dev/colab-wheels/public/simple/\n",
            "Requirement already satisfied: conllu in /usr/local/lib/python3.10/dist-packages (4.5.2)\n"
          ]
        }
      ],
      "source": [
        "# Installation Required\n",
        "!pip install conllu"
      ]
    },
    {
      "cell_type": "markdown",
      "source": [
        "#Import Files and Loading Google Drive"
      ],
      "metadata": {
        "id": "VW0sVzfZD8dJ"
      }
    },
    {
      "cell_type": "code",
      "execution_count": 2,
      "metadata": {
        "id": "-YPSHZYbhfPb"
      },
      "outputs": [],
      "source": [
        "from torch.autograd import Variable\n",
        "import conllu\n",
        "import pickle\n",
        "import os\n",
        "import numpy as np \n",
        "from collections import defaultdict\n",
        "from gensim.models import Word2Vec\n",
        "import torch\n",
        "from google.colab import drive\n",
        "\n",
        "import torch.nn as nn\n",
        "import torch.autograd as autograd\n",
        "import torch.optim as optim\n",
        "import torch.nn.functional as F\n",
        "\n",
        "from pickle import load\n",
        "from matplotlib.pylab import plt\n",
        "from numpy import arange"
      ]
    },
    {
      "cell_type": "code",
      "source": [
        "drive.mount('/content/gdrive')"
      ],
      "metadata": {
        "colab": {
          "base_uri": "https://localhost:8080/"
        },
        "id": "V7MB0K6vARl8",
        "outputId": "c2ccf483-cb31-4205-f917-68eebf079302"
      },
      "execution_count": 3,
      "outputs": [
        {
          "output_type": "stream",
          "name": "stdout",
          "text": [
            "Drive already mounted at /content/gdrive; to attempt to forcibly remount, call drive.mount(\"/content/gdrive\", force_remount=True).\n"
          ]
        }
      ]
    },
    {
      "cell_type": "code",
      "source": [
        "os.environ['CUDA_LAUNCH_BLOCKING'] = \"1\""
      ],
      "metadata": {
        "id": "1NOC9N_f-MFE"
      },
      "execution_count": 4,
      "outputs": []
    },
    {
      "cell_type": "markdown",
      "source": [
        "#Adjacency Matrix to Maximum Spanning Tree"
      ],
      "metadata": {
        "id": "ieHODEoPEZOL"
      }
    },
    {
      "cell_type": "code",
      "execution_count": 5,
      "metadata": {
        "id": "3-RMBHl-76lA"
      },
      "outputs": [],
      "source": [
        "#make it so there is only one (specified) node reachable in one step from the root\n",
        "def reduced_graph(graph, root, node):\n",
        "    new_graph = np.copy(graph)\n",
        "    nodes_list =  [i for i in range(graph.shape[0])]\n",
        "    for node1 in nodes_list:\n",
        "        if node1 == node:\n",
        "          continue\n",
        "        new_graph[root][node1] = 0.0\n",
        "    return new_graph\n",
        "\n",
        "# returns a list output in which output[i] is parent of node i\n",
        "def edges_to_single(list_of_edges):\n",
        "    output = [0] * (len(list_of_edges) + 1)\n",
        "    for edge in list_of_edges:\n",
        "        output[edge[1]] = edge[0]\n",
        "    return output\n",
        "\n",
        "\n",
        "# returns a adjacency matrix of the non-empty edges in the graph\n",
        "def get_edges(graph):\n",
        "    nz=np.nonzero(graph)\n",
        "    edges=[]\n",
        "    for i in range(nz[0].shape[0]):\n",
        "      edges.append((nz[0][i],nz[1][i]))\n",
        "    return edges\n",
        "\n",
        "# traverse the path represented by list of edges and returns path cost\n",
        "def get_path_sum(graph,edges):\n",
        "    path_sum = 0.0\n",
        "    for edge in edges:\n",
        "        path_sum = path_sum + graph[ edge[0] ][ edge[1] ]\n",
        "    return path_sum\n",
        "\n",
        "#returns a list of all cycles in the graph, if there is none return empty list\n",
        "def find_cycles(graph):\n",
        "    nodes_list =  [i for i in range(graph.shape[0])]\n",
        "    cycles_list = []\n",
        "    path = []\n",
        "    visited = []\n",
        "    def visit(node):\n",
        "        if node in visited:\n",
        "            return\n",
        "        visited.append(node)\n",
        "        path.append(node)\n",
        "        neighbours = []\n",
        "        for node1 in nodes_list:\n",
        "            if graph[node][node1] != 0.0:\n",
        "                neighbours.append(node1)\n",
        "        for neighbour in neighbours:\n",
        "            if neighbour in path or visit(neighbour):\n",
        "                cycles_list.append(path.copy())\n",
        "                cycles_list[-1].append(neighbour)\n",
        "        path.remove(node)\n",
        "        return\n",
        "    for node in nodes_list:\n",
        "        visit(node)\n",
        "    return cycles_list\n",
        "\n",
        "# takes in a graph (adjacency matrix) and root and returns an mst rooted at the root\n",
        "def edmonds(graph, root):\n",
        "    conversion_dictionaries_list = []\n",
        "    graph1=np.copy(graph)\n",
        "    for i in range(graph.shape[0]):\n",
        "      graph1[i][i]=0\n",
        "      graph1[i][root]=0\n",
        "\n",
        "    while True:\n",
        "        biggest_indices=np.argmax(graph1,axis=0)\n",
        "        graph_attempt=np.zeros(graph1.shape)\n",
        "        for i in range(biggest_indices.shape[0]):\n",
        "          row=biggest_indices[i]\n",
        "          col=i\n",
        "          graph_attempt[row][col] = graph1[row][col]\n",
        "        cycles = find_cycles(graph_attempt)\n",
        "        if len(cycles)==0:\n",
        "            graph1 = graph_attempt\n",
        "            break\n",
        "        \n",
        "        conversion_dict = defaultdict()\n",
        "        nodes_list = [i for i in range(graph1.shape[0])]\n",
        "        cycle1 = cycles[0]\n",
        "        \n",
        "        new_graph_nodes = []\n",
        "        contracted_node = \"contracted node\"\n",
        "        for node in nodes_list:\n",
        "            if node not in set(cycle1):\n",
        "                new_graph_nodes.append(node)\n",
        "\n",
        "        updated_indices = {}\n",
        "        for i in range(len(new_graph_nodes)):\n",
        "            updated_indices[new_graph_nodes[i]] = i\n",
        "\n",
        "        updated_indices[contracted_node] = len(new_graph_nodes)\n",
        "       \n",
        "        new_graph = np.zeros((len(new_graph_nodes) + 1, len(new_graph_nodes) + 1))\n",
        "\n",
        "        for node1 in new_graph_nodes:\n",
        "            for node2 in new_graph_nodes:\n",
        "                new_graph[updated_indices[node1]][updated_indices[node2]] = graph1[node1][node2]\n",
        "\n",
        "        #    outward edges\n",
        "        for node2 in new_graph_nodes:\n",
        "            max_from_cycle = [0.0, (\"dummy\", \"dummy\")]\n",
        "            for node1 in set(cycle1):\n",
        "                if graph1[node1][node2] > max_from_cycle[0]:\n",
        "                    max_from_cycle[0] = graph1[node1][node2]\n",
        "                    max_from_cycle[1] = (node1, node2)\n",
        "            new_graph[updated_indices[contracted_node]][updated_indices[node2]] = max_from_cycle[0]\n",
        "            if max_from_cycle[1] != (\"dummy\", \"dummy\"):\n",
        "                conversion_dict[(updated_indices[contracted_node], updated_indices[node2])] = [max_from_cycle[1]]\n",
        "\n",
        "        #    inward edges\n",
        "        nodes_in_cycle = list(set(cycle1))\n",
        "        test_graph = np.zeros((len(nodes_in_cycle), len(nodes_in_cycle)))\n",
        "        for node1 in range(len(nodes_in_cycle)):\n",
        "            for node2 in range(len(nodes_in_cycle)):\n",
        "                test_graph[node1][node2] = graph1[nodes_in_cycle[node1]][nodes_in_cycle[node2]]\n",
        "\n",
        "        for node1 in new_graph_nodes:\n",
        "            max_path_score = 0.0\n",
        "            max_path = list()\n",
        "            for i in range(0,len(nodes_in_cycle)):\n",
        "                path_from_node = edmonds(test_graph, i)\n",
        "\n",
        "                for j in range(0,len(path_from_node)):\n",
        "                    path_from_node[j] = (nodes_in_cycle[path_from_node[j][0]], nodes_in_cycle[path_from_node[j][1]])\n",
        "                path_from_node.append((node1, nodes_in_cycle[i]))\n",
        "\n",
        "                current_path_score = get_path_sum(graph1, path_from_node)\n",
        "                if current_path_score > max_path_score:\n",
        "                    max_path_score = current_path_score\n",
        "                    max_path = path_from_node\n",
        "\n",
        "            conversion_dict[(updated_indices[node1], updated_indices[contracted_node])] = max_path\n",
        "            new_graph[updated_indices[node1]][updated_indices[contracted_node]] = max_path_score\n",
        "\n",
        "        for node1 in new_graph_nodes:\n",
        "            for node2 in new_graph_nodes:\n",
        "                conversion_dict[(updated_indices[node1],updated_indices[node2])] = [(node1, node2)]\n",
        "\n",
        "        #adding backtracking pointers for each recursive layer\n",
        "        conversion_dictionaries_list.append(conversion_dict)\n",
        "        graph1 = new_graph\n",
        "\n",
        "    # backtracking to find edges used in original graph given final contracted mst\n",
        "    list_of_nodes = get_edges(graph1)\n",
        "    if len(conversion_dictionaries_list) == 0:\n",
        "        return list_of_nodes\n",
        "   \n",
        "    while len(conversion_dictionaries_list) > 0:\n",
        "        new_list = []\n",
        "        for pair in list_of_nodes:\n",
        "            for node_pair in conversion_dictionaries_list[-1][pair]:  \n",
        "                new_list.append(node_pair)\n",
        "        list_of_nodes = new_list\n",
        "        del conversion_dictionaries_list[-1]\n",
        "    return list_of_nodes\n",
        "\n",
        "def get_edmonds(graph1, root):\n",
        "    graph = np.copy(graph1)\n",
        "    mst = edmonds(graph, root)\n",
        "    return mst\n"
      ]
    },
    {
      "cell_type": "markdown",
      "source": [
        "#Load the train, test and validation data"
      ],
      "metadata": {
        "id": "H72Z4MgAHpX0"
      }
    },
    {
      "cell_type": "code",
      "execution_count": 6,
      "metadata": {
        "id": "UrFVvgyxgv5a"
      },
      "outputs": [],
      "source": [
        "def get_train_data(filename):\n",
        "  with open(filename, \"r\") as f:\n",
        "      data = f.read()\n",
        "\n",
        "  parsed_data = conllu.parse(data)\n",
        "  sentences = []\n",
        "  tags=[]\n",
        "  id=[]\n",
        "  head=[]\n",
        "  deprel=[]\n",
        "\n",
        "  words_set=set()\n",
        "  tags_set=set()\n",
        "  dep_set=set()\n",
        "\n",
        "  words_set.add('<unk>')\n",
        "  tags_set.add('<unk>')\n",
        "  dep_set.add('<unk>')\n",
        "\n",
        "  for sentence in parsed_data:\n",
        "    s=[]\n",
        "    t=[]\n",
        "    i=[]\n",
        "    h=[]\n",
        "    d=[]\n",
        "    for token in sentence:\n",
        "      s.append(token[\"form\"])\n",
        "      t.append(token[\"upos\"])\n",
        "      i.append(token[\"id\"]-1)\n",
        "      h.append(token[\"head\"]-1)\n",
        "      d.append(token[\"deprel\"])\n",
        "    \n",
        "      words_set.add(token[\"form\"])\n",
        "      tags_set.add(token[\"upos\"])\n",
        "      dep_set.add(token[\"deprel\"])\n",
        "    \n",
        "    sentences.append(s)\n",
        "    tags.append(t)\n",
        "    id.append(i)\n",
        "    head.append(h)\n",
        "    deprel.append(d)\n",
        "\n",
        "  wordToIndex={item:val for val,item in enumerate(words_set)}\n",
        "  tagToIndex={item:val for val,item in enumerate(tags_set)}\n",
        "  depToIndex={item:val for val,item in enumerate(dep_set)}\n",
        "\n",
        "  return sentences,tags,id,head,deprel,wordToIndex,tagToIndex,depToIndex\n"
      ]
    },
    {
      "cell_type": "code",
      "execution_count": 7,
      "metadata": {
        "id": "y9SkY8Vmg11t"
      },
      "outputs": [],
      "source": [
        "path='/content/gdrive/MyDrive/nlp_project'\n",
        "train_sent,train_tag,train_id,train_head,train_deprel,wordToIndex,tagToIndex,depToIndex=get_train_data(path+\"/en_atis-ud-train.conllu\")\n"
      ]
    },
    {
      "cell_type": "code",
      "execution_count": 8,
      "metadata": {
        "id": "vawO387iDBSo"
      },
      "outputs": [],
      "source": [
        "indexToDep = {v: k for k, v in depToIndex.items()}\n"
      ]
    },
    {
      "cell_type": "code",
      "execution_count": 9,
      "metadata": {
        "id": "GhTC0A5D0-UK"
      },
      "outputs": [],
      "source": [
        "\n",
        "def get_val_n_test_data(filename,wordToIndex,tagToIndex,depToIndex):\n",
        "  with open(filename, \"r\") as f:\n",
        "      data = f.read()\n",
        "\n",
        "  parsed_data = conllu.parse(data)\n",
        "  sentences = []\n",
        "  tags=[]\n",
        "  id=[]\n",
        "  head=[]\n",
        "  deprel=[]\n",
        "\n",
        "  \n",
        "  for sentence in parsed_data:\n",
        "    s=[]\n",
        "    t=[]\n",
        "    i=[]\n",
        "    h=[]\n",
        "    d=[]\n",
        "    for token in sentence:\n",
        "      i.append(token[\"id\"]-1)\n",
        "      h.append(token[\"head\"]-1)\n",
        "\n",
        "      s.append(token[\"form\"] if token[\"form\"] in wordToIndex.keys() else '<unk>')\n",
        "      t.append(token[\"upos\"] if token[\"upos\"] in tagToIndex.keys() else '<unk>')\n",
        "      d.append(token[\"deprel\"] if token[\"deprel\"] in depToIndex.keys() else '<unk>')\n",
        "    \n",
        "    sentences.append(s)\n",
        "    tags.append(t)\n",
        "    id.append(i)\n",
        "    head.append(h)\n",
        "    deprel.append(d)\n",
        "\n",
        "\n",
        "  return sentences,tags,id,head,deprel\n"
      ]
    },
    {
      "cell_type": "code",
      "execution_count": 10,
      "metadata": {
        "id": "dhFey1DUtHj9"
      },
      "outputs": [],
      "source": [
        "val_sent,val_tag,val_id,val_head,val_deprel=get_val_n_test_data(path+\"/en_atis-ud-dev.conllu\",wordToIndex,tagToIndex,depToIndex)\n",
        "test_sent,test_tag,test_id,test_head,test_deprel=get_val_n_test_data(path+\"/en_atis-ud-test.conllu\",wordToIndex,tagToIndex,depToIndex)"
      ]
    },
    {
      "cell_type": "code",
      "execution_count": 11,
      "metadata": {
        "colab": {
          "base_uri": "https://localhost:8080/"
        },
        "id": "hOJWyfVakXqu",
        "outputId": "b252be74-4834-42a9-e6d8-cc85b0295aac"
      },
      "outputs": [
        {
          "output_type": "execute_result",
          "data": {
            "text/plain": [
              "(864, 41, 14)"
            ]
          },
          "metadata": {},
          "execution_count": 11
        }
      ],
      "source": [
        "len(wordToIndex),len(depToIndex),len(tagToIndex)"
      ]
    },
    {
      "cell_type": "markdown",
      "source": [
        "#Sentences to Embedding using Word2Vec"
      ],
      "metadata": {
        "id": "TdleDP9nH9RJ"
      }
    },
    {
      "cell_type": "code",
      "execution_count": 12,
      "metadata": {
        "id": "WzVkxCbnnf_y"
      },
      "outputs": [],
      "source": [
        "word_embeddings_gensim = Word2Vec(train_sent, vector_size=50, window=5, min_count=1)\n",
        "pos_embeddings_gensim = Word2Vec(train_tag, vector_size=10, window=5, min_count=1)\n"
      ]
    },
    {
      "cell_type": "code",
      "execution_count": 13,
      "metadata": {
        "id": "Lb0Idco2s4ss"
      },
      "outputs": [],
      "source": [
        "pretrained_word_embeddings = np.zeros((len(wordToIndex),50))\n",
        "pretrained_pos_embeddings = np.zeros((len(tagToIndex),10))\n",
        "\n",
        "for word,index in wordToIndex.items():\n",
        "  if word!='<unk>':\n",
        "    pretrained_word_embeddings[index] = word_embeddings_gensim.wv[word]\n",
        "  else:\n",
        "    pretrained_word_embeddings[index] = np.random.uniform(low=-1, high=1, size=50).astype(np.float32)\n",
        "    \n",
        "for tag,index in tagToIndex.items():\n",
        "  if tag!='<unk>':\n",
        "    pretrained_pos_embeddings[index] = pos_embeddings_gensim.wv[tag]\n",
        "  else:\n",
        "    pretrained_pos_embeddings[index] = np.random.uniform(low=-1, high=1, size=10).astype(np.float32)\n",
        "   \n",
        "pretrained_word_embeddings =torch.tensor(pretrained_word_embeddings,dtype=torch.float)\n",
        "pretrained_pos_embeddings =torch.tensor(pretrained_pos_embeddings,dtype=torch.float)\n",
        "\n"
      ]
    },
    {
      "cell_type": "markdown",
      "source": [
        "#Defining the Network Class and creating its object "
      ],
      "metadata": {
        "id": "LJoNYTTLIm2q"
      }
    },
    {
      "cell_type": "code",
      "execution_count": 14,
      "metadata": {
        "id": "B9ozkx9szAX6"
      },
      "outputs": [],
      "source": [
        "\n",
        "# create the neural network\n",
        "class Network(nn.Module):\n",
        "    \n",
        "    def __init__(self, w2i, p2i, pretrained_word_embeddings, pretrained_pos_embeddings,\n",
        "                 len_word_embed, len_pos_embed, len_feature_vec=20, lstm_hidden_size=400,\n",
        "                 mlp_arc_hidden_size=500, mlp_label_hidden_size=200, n_label=47):\n",
        "\n",
        "        super(Network, self).__init__()\n",
        "        self.len_word_embed = len_word_embed\n",
        "        self.len_pos_embed = len_pos_embed\n",
        "        self.len_data_vec = len_word_embed + len_pos_embed\n",
        "        self.len_feature_vec = len_feature_vec\n",
        "        self.lstm_hidden_size = lstm_hidden_size\n",
        "        self.mlp_arc_hidden_size = mlp_arc_hidden_size\n",
        "        self.mlp_label_hidden_size = mlp_label_hidden_size\n",
        "        self.n_label = n_label\n",
        "        self.w2i = w2i\n",
        "        self.p2i = p2i\n",
        "\n",
        "        # trainable parameters\n",
        "        self.word_embeddings = torch.nn.Embedding(len(pretrained_word_embeddings), len_word_embed)\n",
        "        self.word_embeddings.weight = torch.nn.Parameter(pretrained_word_embeddings)\n",
        "        self.pos_embeddings = torch.nn.Embedding(len(pretrained_pos_embeddings), len_pos_embed)\n",
        "        self.pos_embeddings.weight = torch.nn.Parameter(pretrained_pos_embeddings)\n",
        "\n",
        "        self.BiLSTM = torch.nn.LSTM(input_size=self.len_data_vec, hidden_size=self.lstm_hidden_size,\n",
        "                                    num_layers = 3, dropout=.33, bidirectional=True)\n",
        "\n",
        "        self.MLP_arc_head_layer1 = torch.nn.Linear(self.lstm_hidden_size * 2, mlp_arc_hidden_size)\n",
        "        self.MLP_arc_head_layer2 = torch.nn.Linear(mlp_arc_hidden_size, len_feature_vec)\n",
        "        self.MLP_arc_dep_layer1 = torch.nn.Linear(self.lstm_hidden_size * 2, mlp_arc_hidden_size)\n",
        "        self.MLP_arc_dep_layer2 = torch.nn.Linear(mlp_arc_hidden_size, len_feature_vec)\n",
        "\n",
        "        self.MLP_label_head_layer1 = torch.nn.Linear(self.lstm_hidden_size * 2, mlp_label_hidden_size)\n",
        "        self.MLP_label_head_layer2 = torch.nn.Linear(mlp_label_hidden_size, len_feature_vec)\n",
        "        self.MLP_label_dep_layer1 = torch.nn.Linear(self.lstm_hidden_size * 2, mlp_label_hidden_size)\n",
        "        self.MLP_label_dep_layer2 = torch.nn.Linear(mlp_label_hidden_size, len_feature_vec)\n",
        "\n",
        "        self.MLP_label_classifier_layer1 = torch.nn.Linear(self.len_feature_vec*2, self.len_feature_vec)\n",
        "        self.MLP_label_classifier_layer2 = torch.nn.Linear(self.len_feature_vec, self.n_label)\n",
        "\n",
        "        self.U_1 = nn.Parameter(torch.randn(len_feature_vec, len_feature_vec))\n",
        "        self.u_2 = nn.Parameter(torch.randn(1, len_feature_vec))\n",
        "\n",
        "        self.arc_loss = []\n",
        "        self.label_loss = []\n",
        "        self.total_loss = []\n",
        "        \n",
        "\n",
        "    def MLP_arc_head(self, r):\n",
        "        hidden = F.relu(self.MLP_arc_head_layer1(r))\n",
        "        h = self.MLP_arc_head_layer2(hidden)\n",
        "        return h\n",
        "\n",
        "    def MLP_arc_dep(self, r):\n",
        "        hidden = F.relu(self.MLP_arc_dep_layer1(r))\n",
        "        h = self.MLP_arc_dep_layer2(hidden)\n",
        "        return h\n",
        "\n",
        "    def MLP_label_head(self, r):\n",
        "        hidden = F.relu(self.MLP_label_head_layer1(r))\n",
        "        h = self.MLP_label_head_layer2(hidden)\n",
        "        return h\n",
        "\n",
        "    def MLP_label_dep(self, r):\n",
        "        hidden = F.relu(self.MLP_label_dep_layer1(r))\n",
        "        h = self.MLP_label_dep_layer2(hidden)\n",
        "        return h\n",
        "\n",
        "    def MLP_label_classifier(self, r):\n",
        "        hidden = F.relu(self.MLP_label_classifier_layer1(r))\n",
        "        h = self.MLP_label_classifier_layer2(hidden)\n",
        "        return h\n",
        "\n",
        "    def forward(self, sequence):\n",
        "        # read input\n",
        "        seq_len = len(sequence[0])\n",
        "        word_sequence = sequence[:,0]\n",
        "        pos_sequence = sequence[:,1]\n",
        "        gold_tree = sequence[:,2] if seq_len == 3 else None # if there is no gold tree given, only predict arcs, not labels\n",
        "        \n",
        "        # find word embeddings given sequence of indices and construct data vector\n",
        "        word_embeddings = self.word_embeddings(word_sequence)\n",
        "        pos_embeddings = self.pos_embeddings(pos_sequence)\n",
        "        x = torch.cat((word_embeddings, pos_embeddings), 1)\n",
        "        x = x[:, None, :]  # add an empty y-dimension, because that's how LSTM takes its input\n",
        "\n",
        "        # initialise hidden state of the LSTM\n",
        "        hidden_init_1 = torch.zeros(6, 1, self.lstm_hidden_size)\n",
        "        hidden_init_2 = torch.zeros(6, 1, self.lstm_hidden_size)\n",
        "        if torch.cuda.is_available:\n",
        "            hidden_init_1 = hidden_init_1.cuda()\n",
        "            hidden_init_2 = hidden_init_2.cuda()\n",
        "        hidden = (autograd.Variable(hidden_init_1), autograd.Variable(hidden_init_2))\n",
        "\n",
        "        # embed words in their context\n",
        "        r, _ = self.BiLSTM(x, hidden)\n",
        "\n",
        "        # \"fork in the road\"; arcs\n",
        "        h_arc_head = torch.squeeze(self.MLP_arc_head(r))\n",
        "        h_arc_dep = torch.squeeze(self.MLP_arc_dep(r))\n",
        "        adj_matrix = h_arc_head @ self.U_1 @ torch.t(h_arc_dep) + h_arc_head @ torch.t(self.u_2)\n",
        "\n",
        "\n",
        "        # if we only try to predict arcs (not labels) we will skip this block\n",
        "        # this occurs during testing        \n",
        "        pred_labels = None\n",
        "        if gold_tree is not None:\n",
        "            h_label_head = torch.squeeze(self.MLP_label_head(r))\n",
        "            h_label_dep = torch.squeeze(self.MLP_label_dep(r))\n",
        "            h_label_dep = h_label_dep[gold_tree.data]\n",
        "            arcs_to_label = torch.cat((h_label_head, h_label_dep),1)\n",
        "            pred_labels = self.MLP_label_classifier(arcs_to_label)\n",
        "        return adj_matrix , pred_labels\n"
      ]
    },
    {
      "cell_type": "code",
      "execution_count": 15,
      "metadata": {
        "id": "mI9Z2R5mzEVN"
      },
      "outputs": [],
      "source": [
        "network = Network(wordToIndex, tagToIndex, pretrained_word_embeddings ,pretrained_pos_embeddings , 50, 10, n_label=len(depToIndex))\n",
        "criterion = nn.CrossEntropyLoss()\n",
        "optimizer = optim.Adam(network.parameters())\n",
        "\n",
        "if torch.cuda.is_available():\n",
        "  network=network.cuda()\n",
        "  criterion=criterion.cuda()"
      ]
    },
    {
      "cell_type": "markdown",
      "source": [
        "#Train the model using train and validation data"
      ],
      "metadata": {
        "id": "VGeN4yCBI1l8"
      }
    },
    {
      "cell_type": "code",
      "source": [
        "# return the list parents where parent[i] is the index of the parent of the word at index i\n",
        "# if word is root, it is the parent of itself \n",
        "def get_parents(ids,heads):\n",
        "    sentence_len = len(ids)\n",
        "    parents= np.zeros(sentence_len)\n",
        "    for i in range(sentence_len):\n",
        "      if heads[i]!=-1:                  #not root\n",
        "        parents[ids[i]]=heads[i]\n",
        "      else:                             #root\n",
        "        parents[ids[i]]=ids[i]\n",
        "\n",
        "    return torch.LongTensor(parents)\n",
        " \n",
        "# Returns loss of training and validation data \n",
        "def get_loss( sent, tag, id, head, deprel,network,isTrain):    \n",
        "  data_len=len(sent)\n",
        "  arc_loss_per_data = []\n",
        "  label_loss_per_data = []\n",
        "  total_loss_per_data = []\n",
        "  for i in range(data_len):\n",
        "\n",
        "      network.zero_grad()  # PyTorch remembers gradients. We can forget them now, because we are starting a new sentence\n",
        "\n",
        "      # prepare targets\n",
        "      seq_len = len( sent[i])\n",
        "      gold_tree = get_parents( id[i], head[i])\n",
        "      arc_target = Variable(gold_tree, requires_grad=False)\n",
        "\n",
        "      labels_target = torch.LongTensor(seq_len)\n",
        "      for j,dep in enumerate( deprel[i]):\n",
        "          labels_target[j] = depToIndex[dep] if dep in depToIndex else depToIndex['<unk>']\n",
        "      labels_target = Variable(labels_target, requires_grad=False)\n",
        "\n",
        "      # prepare input\n",
        "      sequence = torch.LongTensor(seq_len, 3)\n",
        "      for j in range(seq_len):\n",
        "          sequence[j,0] = wordToIndex[ sent[i][j]] if sent[i][j] in wordToIndex else wordToIndex['<unk>']\n",
        "          sequence[j,1] = tagToIndex[ tag[i][j]]   if tag[i][j] in tagToIndex else tagToIndex['<unk>']\n",
        "          sequence[j,2] = gold_tree[j]\n",
        "      sequence_var = Variable(sequence)\n",
        "\n",
        "      # prepare GPU\n",
        "      if torch.cuda.is_available():\n",
        "        arc_target = arc_target.cuda()\n",
        "        labels_target = labels_target.cuda()\n",
        "        sequence_var = sequence_var.cuda()\n",
        "      \n",
        "      # run the network\n",
        "      adj_mat, labels_pred = network(sequence_var)\n",
        "      arc_pred = torch.t(adj_mat)  # nn.CrossEntropyLoss() wants the classes in the second dimension\n",
        "      arc_loss = criterion(arc_pred, arc_target)\n",
        "      label_loss = criterion(labels_pred, labels_target)\n",
        "      total_loss = arc_loss + label_loss\n",
        "     \n",
        "      # save losses for convergence history\n",
        "      arc_loss_per_data.append(arc_loss.data.cpu().numpy())\n",
        "      label_loss_per_data.append(label_loss.data.cpu().numpy())\n",
        "      total_loss_per_data.append(total_loss.data.cpu().numpy())\n",
        "      \n",
        "      # backprop\n",
        "      if isTrain:                  #back propagate loss for the train data only not for validation data\n",
        "        total_loss.backward()\n",
        "        optimizer.step()        \n",
        "      \n",
        "  if isTrain:\n",
        "    network.arc_loss.append(np.mean(arc_loss_per_data))\n",
        "    network.label_loss.append(np.mean(label_loss_per_data))\n",
        "    network.total_loss.append(np.mean(total_loss_per_data))\n",
        "\n",
        "  return np.mean(total_loss_per_data)"
      ],
      "metadata": {
        "id": "UMkZ9rZXhfSr"
      },
      "execution_count": 16,
      "outputs": []
    },
    {
      "cell_type": "code",
      "execution_count": 17,
      "metadata": {
        "id": "fiIf_Dvf22hL"
      },
      "outputs": [],
      "source": [
        "fileExist = os.path.exists(path+\"/network.pkl\")\n",
        "\n",
        "# Load the model and other files if exists\n",
        "if fileExist:\n",
        "  network.load_state_dict(torch.load(path+\"/network.pkl\")['model'])\n",
        "  optimizer.load_state_dict(torch.load(path+\"/network.pkl\")['optimizer'])\n",
        "\n",
        "  with open(path+'/dicts.pickle', 'rb') as f:\n",
        "    wordToIndex=pickle.load(f)\n",
        "    tagToIndex=pickle.load(f)\n",
        "    depToIndex=pickle.load(f)\n",
        "    indexToDep=pickle.load(f)\n",
        "    pretrained_word_embeddings=pickle.load(f)\n",
        "    pretrained_pos_embeddings=pickle.load(f)\n",
        "\n",
        "  with open(path+'/losses.pickle', 'rb') as f:\n",
        "    train_loss=pickle.load(f)\n",
        "    val_loss=pickle.load(f)\n",
        "\n",
        "  network.eval()\n",
        " \n",
        "#otherwise train the model\n",
        "else:\n",
        "  train_loss=[]\n",
        "  val_loss=[]\n",
        "  epochs=20\n",
        "  data_len=len(train_sent)\n",
        "  for epoch in range(epochs):\n",
        "    mean_train_loss_per_data=get_loss(train_sent,train_tag,train_id,train_head,train_deprel,network,True)\n",
        "    mean_val_loss_per_data=get_loss(val_sent,val_tag,val_id,val_head,val_deprel,network,False)\n",
        "    train_loss.append(mean_train_loss_per_data)\n",
        "    val_loss.append(mean_val_loss_per_data)\n",
        "    print(\"Epoch: \",epoch+1, \" mean_train_loss_per_data:\",mean_train_loss_per_data,\" mean_val_loss_per_data:\",mean_val_loss_per_data)\n",
        "     \n",
        "  \n",
        "  #save the model and other files\n",
        "  state = {'model': network.state_dict(), 'optimizer': optimizer.state_dict()}\n",
        "  torch.save(state, path+'/network.pkl')\n",
        "\n",
        "  with open(path+'/dicts.pickle', 'wb') as f:\n",
        "    pickle.dump(wordToIndex,f)\n",
        "    pickle.dump(tagToIndex,f)\n",
        "    pickle.dump(depToIndex,f)\n",
        "    pickle.dump(indexToDep,f)\n",
        "    pickle.dump(pretrained_word_embeddings,f)\n",
        "    pickle.dump(pretrained_pos_embeddings,f)\n",
        "\n",
        "\n",
        "  with open(path+'/losses.pickle', 'wb') as f:\n",
        "    pickle.dump(train_loss,f)\n",
        "    pickle.dump(val_loss,f)\n",
        "\n",
        "      "
      ]
    },
    {
      "cell_type": "markdown",
      "source": [
        "#Calculate the unlabeled and labeled score for the dependency prediction for the test data "
      ],
      "metadata": {
        "id": "PWApcEncK67G"
      }
    },
    {
      "cell_type": "code",
      "execution_count": 18,
      "metadata": {
        "id": "QnVd8j-D2NJ_"
      },
      "outputs": [],
      "source": [
        "# returns correct unlabeled predictions and total predictions\n",
        "def unlabeled_score(pred_tensor, gold_tensor):\n",
        "    correct = 0\n",
        "    for i in range(0,len(pred_tensor)):\n",
        "        if pred_tensor[i] == gold_tensor[i]:\n",
        "            correct = correct + 1\n",
        "    return correct, len(pred_tensor)\n",
        "\n",
        "# returns correct labeled predictions and total predictions\n",
        "def labeled_score(pred_tensor, gold_tensor, pred_labels, gold_labels):\n",
        "    correct = 0\n",
        "    for i in range(0,len(pred_tensor)):\n",
        "        if pred_tensor[i] == gold_tensor[i] and pred_labels[i] == gold_labels[i]:\n",
        "            correct = correct + 1\n",
        "    return correct, len(pred_tensor)\n",
        "\n",
        "# return the index of root.\n",
        "# root is the node whose head is -1 \n",
        "def get_root(heads):\n",
        "  for i in range(len(heads)):\n",
        "    if heads[i]==-1:\n",
        "      return i\n",
        "  return 0"
      ]
    },
    {
      "cell_type": "code",
      "execution_count": 19,
      "metadata": {
        "id": "TE1rISyotDxd",
        "colab": {
          "base_uri": "https://localhost:8080/"
        },
        "outputId": "e712704e-83e1-40d8-f896-407e2f0b8aa4"
      },
      "outputs": [
        {
          "output_type": "stream",
          "name": "stderr",
          "text": [
            "<ipython-input-19-bc4c4f6574c4>:35: UserWarning: Implicit dimension choice for softmax has been deprecated. Change the call to include dim=X as an argument.\n",
            "  adj_mat = F.softmax(torch.t(adj_mat))\n"
          ]
        },
        {
          "output_type": "stream",
          "name": "stdout",
          "text": [
            "Final Accuracy:  88.67579908675799 83.33333333333334\n"
          ]
        }
      ],
      "source": [
        "# test the code\n",
        "uas_scores = 0\n",
        "las_scores = 0\n",
        "arc_count = 0\n",
        "\n",
        "test_size=len(test_sent)\n",
        "\n",
        "for i in range(test_size):\n",
        "  gold_labels = []\n",
        "  for dep in test_deprel[i]:\n",
        "    if dep in depToIndex:\n",
        "      gold_labels.append(depToIndex[dep])\n",
        "    else:\n",
        "      gold_labels.append(depToIndex['<unk>'])\n",
        "\n",
        "  gold_tree = get_parents(test_id[i],test_head[i])\n",
        "  target = Variable(gold_tree, requires_grad=False)\n",
        "\n",
        "  sent_len=len(test_sent[i])\n",
        "  sequence= torch.cuda.LongTensor(sent_len,2)\n",
        "  for j in range(sent_len):\n",
        "    \n",
        "    if test_sent[i][j] in wordToIndex:\n",
        "      sequence[j,0] = wordToIndex[ test_sent[i][j] ]\n",
        "    else:\n",
        "      sequence[j,0] = wordToIndex['<unk>']\n",
        "\n",
        "    if test_tag[i][j] in tagToIndex:\n",
        "      sequence[j,1] = tagToIndex[  test_tag[i][j] ]\n",
        "    else:\n",
        "      sequence[j,1] = tagToIndex['<unk>'] \n",
        " \n",
        "  sequence_var = Variable(sequence)\n",
        "  adj_mat,_ = network(sequence_var)\n",
        "  adj_mat = F.softmax(torch.t(adj_mat))\n",
        "  adj_mat = adj_mat.data.cpu().numpy()\n",
        "  \n",
        "  \n",
        "  root_of_tree=get_root(test_head[i])\n",
        "  pred_edges = get_edmonds(adj_mat.T, root_of_tree)   # you need to change this 0, as 0 is not always the root\n",
        "  #your root is whose head is -1\n",
        "  pred_single = edges_to_single(pred_edges)\n",
        "\n",
        "  sequence_with_label = torch.cuda.LongTensor(sent_len,3)\n",
        "  for j in range(sent_len):\n",
        "    if test_sent[i][j] in wordToIndex:\n",
        "      sequence_with_label[j,0] = wordToIndex[ test_sent[i][j] ]\n",
        "    else:\n",
        "      sequence_with_label[j,0] = wordToIndex['<unk>']\n",
        "\n",
        "    if test_tag[i][j] in tagToIndex:\n",
        "      sequence_with_label[j,1] = tagToIndex[  test_tag[i][j] ]\n",
        "    else:\n",
        "      sequence_with_label[j,1] = tagToIndex['<unk>'] \n",
        "\n",
        "    sequence_with_label[j,2] = pred_single[j]\n",
        "    \n",
        "  sequence_var = Variable(sequence_with_label)\n",
        "  adj_mat, predicted_labels = network(sequence_var)\n",
        "  \n",
        "  \n",
        "  pred_labels=torch.argmax(predicted_labels, dim=1)\n",
        "  pred_tensor = torch.LongTensor(pred_single)\n",
        "\n",
        "  uas = unlabeled_score(pred_tensor, gold_tree)\n",
        "  las = labeled_score(pred_tensor, gold_tree, pred_labels, gold_labels)\n",
        "\n",
        "  uas_scores += uas[0]\n",
        "  las_scores += las[0]\n",
        "  arc_count += uas[1]\n",
        "\n",
        "print(\"Final Accuracy: \",(uas_scores/arc_count)*100, (las_scores/arc_count)*100)"
      ]
    },
    {
      "cell_type": "markdown",
      "source": [
        "#Test on your own input"
      ],
      "metadata": {
        "id": "rkpIG1fjL03w"
      }
    },
    {
      "cell_type": "code",
      "execution_count": 20,
      "metadata": {
        "id": "bk-ZFiLP4Npu",
        "colab": {
          "base_uri": "https://localhost:8080/"
        },
        "outputId": "2f29d662-e41a-4c1c-d667-9878ed142a45"
      },
      "outputs": [
        {
          "output_type": "stream",
          "name": "stdout",
          "text": [
            "***************  unlabeled **********************\n",
            "what --> what\n",
            "is --> what\n",
            "the --> cost\n",
            "cost --> what\n",
            "of --> round\n",
            "a --> round\n",
            "round --> trip\n",
            "trip --> cost\n",
            "flight --> cost\n",
            "from --> pittsburgh\n",
            "pittsburgh --> flight\n",
            "to --> atlanta\n",
            "atlanta --> flight\n",
            "beginning --> flight\n",
            "on --> april\n",
            "april --> fifth\n",
            "twenty --> fifth\n",
            "fifth --> pittsburgh\n",
            "and --> returning\n",
            "returning --> beginning\n",
            "on --> may\n",
            "may --> returning\n",
            "sixth --> may\n",
            "*************************************************\n",
            "*****************  labeled **********************\n",
            "what --> what : root\n",
            "is --> what : cop\n",
            "the --> cost : det\n",
            "cost --> what : nsubj\n",
            "of --> round : case\n",
            "a --> round : det\n",
            "round --> trip : compound\n",
            "trip --> cost : compound\n",
            "flight --> cost : nmod\n",
            "from --> pittsburgh : case\n",
            "pittsburgh --> flight : nmod\n",
            "to --> atlanta : case\n",
            "atlanta --> flight : nmod\n",
            "beginning --> flight : acl\n",
            "on --> april : case\n",
            "april --> fifth : obl\n",
            "twenty --> fifth : nummod\n",
            "fifth --> pittsburgh : acl\n",
            "and --> returning : cc\n",
            "returning --> beginning : conj\n",
            "on --> may : case\n",
            "may --> returning : obl\n",
            "sixth --> may : amod\n",
            "*************************************************\n"
          ]
        },
        {
          "output_type": "stream",
          "name": "stderr",
          "text": [
            "<ipython-input-20-75cad5e8a2b3>:29: UserWarning: Implicit dimension choice for softmax has been deprecated. Change the call to include dim=X as an argument.\n",
            "  adj_mat = F.softmax(torch.t(adj_mat))\n"
          ]
        }
      ],
      "source": [
        "\n",
        "\n",
        "inp_sent=['what', 'is', 'the', 'cost', 'of', 'a', 'round', 'trip', 'flight', 'from', 'pittsburgh', 'to', 'atlanta', 'beginning', 'on', 'april', 'twenty', 'fifth', 'and', 'returning', 'on', 'may', 'sixth']\n",
        "inp_tag=['PRON', 'AUX', 'DET', 'NOUN', 'ADP', 'DET', 'NOUN', 'NOUN', 'NOUN', 'ADP', 'PROPN', 'ADP', 'PROPN', 'VERB', 'ADP', 'NOUN', 'NUM', 'ADJ', 'CCONJ', 'VERB', 'ADP', 'NOUN', 'ADJ']\n",
        "with open(path+\"/my_test.conllu\", \"r\") as f:\n",
        "      data = f.read()\n",
        "parsed_data = conllu.parse(data)\n",
        "\n",
        "inp_sent=[]\n",
        "inp_tag=[]\n",
        "for sentence in parsed_data:\n",
        "    for token in sentence:\n",
        "      inp_sent.append(token[\"form\"] if token[\"form\"] in wordToIndex.keys() else '<unk>')\n",
        "      inp_tag.append(token[\"upos\"] if token[\"upos\"] in tagToIndex.keys() else '<unk>')\n",
        "\n",
        "sent_len=len(inp_sent)\n",
        "sequence= torch.cuda.LongTensor(sent_len,2)\n",
        "for j in range(sent_len):\n",
        "    if inp_sent[j] in wordToIndex:\n",
        "      sequence[j,0] = wordToIndex[ inp_sent[j] ]\n",
        "    else:\n",
        "      sequence[j,0] = wordToIndex['<unk>']\n",
        "\n",
        "    if inp_tag[j] in tagToIndex:\n",
        "      sequence[j,1] = tagToIndex[  inp_tag[j] ]\n",
        "    else:\n",
        "      sequence[j,1] = tagToIndex['<unk>']\n",
        "\n",
        "sequence_var = Variable(sequence)\n",
        "adj_mat,_ = network(sequence_var)\n",
        "adj_mat = F.softmax(torch.t(adj_mat))\n",
        "adj_mat = adj_mat.data.cpu().numpy()\n",
        "\n",
        "root_of_tree=0\n",
        "pred_edges = get_edmonds(adj_mat.T, root_of_tree)  \n",
        "pred_single = edges_to_single(pred_edges)\n",
        "\n",
        "sequence_with_label = torch.cuda.LongTensor(sent_len,3)\n",
        "  \n",
        "for j in range(sent_len):\n",
        "  if inp_sent[j] in wordToIndex:\n",
        "    sequence_with_label[j,0] = wordToIndex[ inp_sent[j] ]\n",
        "  else:\n",
        "    sequence_with_label[j,0] = wordToIndex['<unk>']\n",
        "\n",
        "  if inp_tag[j] in tagToIndex:\n",
        "    sequence_with_label[j,1] = tagToIndex[  inp_tag[j] ]\n",
        "  else:\n",
        "    sequence_with_label[j,1] = tagToIndex['<unk>'] \n",
        "\n",
        "  sequence_with_label[j,2] = pred_single[j]\n",
        "\n",
        "sequence_var = Variable(sequence_with_label)\n",
        "adj_mat, predicted_labels = network(sequence_var)\n",
        "\n",
        "\n",
        "pred_labels=torch.argmax(predicted_labels, dim=1)\n",
        "pred_tensor = torch.LongTensor(pred_single)\n",
        "\n",
        "\n",
        "print(\"***************  unlabeled **********************\")\n",
        "for i in range(sent_len):\n",
        "\n",
        "  print(inp_sent[i],\"-->\",inp_sent[ int(pred_tensor[i]) ] )\n",
        "print(\"*************************************************\")\n",
        "\n",
        "\n",
        "print(\"*****************  labeled **********************\")\n",
        "for i in range(sent_len):\n",
        "  print(inp_sent[i],\"-->\",inp_sent[ int(pred_tensor[i]) ] ,\":\",indexToDep[ int(pred_labels[i]) ] )\n",
        "print(\"*************************************************\")\n",
        "\n",
        "\n",
        "\n",
        "\n"
      ]
    },
    {
      "cell_type": "code",
      "execution_count": 21,
      "metadata": {
        "id": "m-JZBu3qKaQd",
        "colab": {
          "base_uri": "https://localhost:8080/",
          "height": 472
        },
        "outputId": "6fa4fff5-56d9-45ea-c5b3-82a0630cd899"
      },
      "outputs": [
        {
          "output_type": "display_data",
          "data": {
            "text/plain": [
              "<Figure size 640x480 with 1 Axes>"
            ],
            "image/png": "[encoded data removed]"
          },
          "metadata": {}
        }
      ],
      "source": [
        "\n",
        "with open(path+'/losses.pickle', 'rb') as f:\n",
        "    train_loss=pickle.load(f)\n",
        "    val_loss=pickle.load(f)\n",
        "\n",
        "\n",
        "# Generate a sequence of integers to represent the epoch numbers\n",
        "epochs=20\n",
        "epoch_num = [i+1 for i in range(epochs)]\n",
        "\n",
        "# Plot and label the training and validation loss values\n",
        "plt.plot(epoch_num, train_loss, label='Training Loss')\n",
        "plt.plot(epoch_num, val_loss, label='Validation Loss')\n",
        "\n",
        "# Add in a title and axes labels\n",
        "plt.title('Training and Validation Loss')\n",
        "plt.xlabel('Epochs')\n",
        "plt.ylabel('Loss')\n",
        "\n",
        "# Set the tick locations\n",
        "plt.xticks(arange(0, epochs+1, 5))\n",
        "\n",
        "# Display the plot\n",
        "plt.legend(loc='best')\n",
        "plt.show()"
      ]
    },
    {
      "cell_type": "code",
      "source": [],
      "metadata": {
        "id": "iflq9r1WQ3rZ"
      },
      "execution_count": 21,
      "outputs": []
    }
  ],
  "metadata": {
    "accelerator": "GPU",
    "colab": {
      "provenance": []
    },
    "gpuClass": "standard",
    "kernelspec": {
      "display_name": "Python 3",
      "name": "python3"
    },
    "language_info": {
      "name": "python"
    }
  },
  "nbformat": 4,
  "nbformat_minor": 0
}